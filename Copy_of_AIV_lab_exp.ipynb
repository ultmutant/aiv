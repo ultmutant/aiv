{
  "nbformat": 4,
  "nbformat_minor": 0,
  "metadata": {
    "colab": {
      "provenance": []
    },
    "kernelspec": {
      "name": "python3",
      "display_name": "Python 3"
    },
    "language_info": {
      "name": "python"
    }
  },
  "cells": [
    {
      "cell_type": "markdown",
      "source": [
        "# 1 Preprocess"
      ],
      "metadata": {
        "id": "unM7uuQT2rC-"
      }
    },
    {
      "cell_type": "code",
      "source": [
        "import pandas as pd\n",
        "import numpy as np\n",
        "from sklearn.preprocessing import StandardScaler\n",
        "\n",
        "# Load the data with headers\n",
        "file_path = \"/content/datapreprocessing.csv\"\n",
        "data = pd.read_csv(file_path)\n",
        "\n",
        "print(\"Original data:\")\n",
        "print(data)\n",
        "\n",
        "# Select numeric columns only for preprocessing\n",
        "numeric_columns = data.select_dtypes(include=[np.number])\n",
        "\n",
        "# Handle missing values - let's fill with the mean of each column\n",
        "numeric_data = numeric_columns.fillna(numeric_columns.mean())\n",
        "\n",
        "# Mean removal\n",
        "mean_removed = numeric_data - numeric_data.mean()\n",
        "data_mean_removed = numeric_data.copy()\n",
        "data_mean_removed.loc[:, :] = mean_removed\n",
        "\n",
        "# Normalization (min-max scaling)\n",
        "normalized = (numeric_data - numeric_data.min()) / (numeric_data.max() - numeric_data.min())\n",
        "\n",
        "# Standardization\n",
        "scaler = StandardScaler()\n",
        "standardized = scaler.fit_transform(numeric_data)\n",
        "standardized_df = pd.DataFrame(standardized, columns=numeric_data.columns)\n",
        "\n",
        "# Print results\n",
        "print(\"\\nMean Removed Data:\")\n",
        "print(data_mean_removed)\n",
        "\n",
        "print(\"\\nNormalized Data:\")\n",
        "print(normalized)\n",
        "\n",
        "print(\"\\nStandardized Data:\")\n",
        "print(standardized_df)\n"
      ],
      "metadata": {
        "id": "eDeonO_s1NHV",
        "colab": {
          "base_uri": "https://localhost:8080/"
        },
        "outputId": "ae14b7e7-05df-4d49-ea2c-1d1c5e10c44d",
        "collapsed": true
      },
      "execution_count": 4,
      "outputs": [
        {
          "output_type": "stream",
          "name": "stdout",
          "text": [
            "Original data:\n",
            "   sno  rollno   age  marks1  marks2  marks3 result\n",
            "0    1     111  19.0    50.0     NaN     NaN      p\n",
            "1    2     112   NaN    25.0    25.0     NaN      p\n",
            "2    3     113  18.0    45.0    35.0    10.0      p\n",
            "3    4     114   6.0    30.0    50.0    50.0      f\n",
            "4    5     115   NaN     NaN    22.0    25.0      f\n",
            "\n",
            "Mean Removed Data:\n",
            "   sno  rollno       age  marks1  marks2     marks3\n",
            "0   -2      -2  4.666667    12.5     0.0   0.000000\n",
            "1   -1      -1  0.000000   -12.5    -8.0   0.000000\n",
            "2    0       0  3.666667     7.5     2.0 -18.333333\n",
            "3    1       1 -8.333333    -7.5    17.0  21.666667\n",
            "4    2       2  0.000000     0.0   -11.0  -3.333333\n",
            "\n",
            "Normalized Data:\n",
            "    sno  rollno       age  marks1    marks2    marks3\n",
            "0  0.00    0.00  1.000000     1.0  0.392857  0.458333\n",
            "1  0.25    0.25  0.641026     0.0  0.107143  0.458333\n",
            "2  0.50    0.50  0.923077     0.8  0.464286  0.000000\n",
            "3  0.75    0.75  0.000000     0.2  1.000000  1.000000\n",
            "4  1.00    1.00  0.641026     0.5  0.000000  0.375000\n",
            "\n",
            "Standardized Data:\n",
            "        sno    rollno       age    marks1    marks2    marks3\n",
            "0 -1.414214 -1.414214  1.019970  1.355815  0.000000  0.000000\n",
            "1 -0.707107 -0.707107  0.000000 -1.355815 -0.818203  0.000000\n",
            "2  0.000000  0.000000  0.801405  0.813489  0.204551 -1.434511\n",
            "3  0.707107  0.707107 -1.821376 -0.813489  1.738681  1.695332\n",
            "4  1.414214  1.414214  0.000000  0.000000 -1.125029 -0.260820\n"
          ]
        }
      ]
    },
    {
      "cell_type": "markdown",
      "source": [
        "# 2.1"
      ],
      "metadata": {
        "id": "1ysEVSLDsh8u"
      }
    },
    {
      "cell_type": "code",
      "execution_count": null,
      "metadata": {
        "colab": {
          "base_uri": "https://localhost:8080/"
        },
        "id": "GFPUvsZ9sTRh",
        "outputId": "e7f3a06d-2aec-46d0-9758-7a702c6eb99c"
      },
      "outputs": [
        {
          "output_type": "stream",
          "name": "stdout",
          "text": [
            "Accuracy: 0.5\n"
          ]
        }
      ],
      "source": [
        "import pandas as pd\n",
        "from sklearn.naive_bayes import GaussianNB\n",
        "from sklearn.preprocessing import LabelEncoder\n",
        "from sklearn.model_selection import train_test_split\n",
        "from sklearn.metrics import accuracy_score\n",
        "\n",
        "# Sample data\n",
        "data = pd.DataFrame({\n",
        "    'Weather': ['Sunny', 'Rainy', 'Sunny', 'Sunny'],\n",
        "    'Wind': ['Mild', 'Mild', 'High', 'Mild'],\n",
        "    'Temp': ['Moderate', 'Mild', 'Moderate', 'Mild'],\n",
        "    'go': ['Yes', 'No', 'Yes', 'Yes']\n",
        "})\n",
        "\n",
        "# Encode categorical variables\n",
        "encoder = LabelEncoder()\n",
        "for column in data.columns:\n",
        "    data[column] = encoder.fit_transform(data[column])\n",
        "\n",
        "# Split data\n",
        "X = data.iloc[:, :-1]\n",
        "y = data.iloc[:, -1]\n",
        "X_train, X_test, y_train, y_test = train_test_split(X, y, test_size=0.3, random_state=42)\n",
        "\n",
        "# Train model\n",
        "model = GaussianNB()\n",
        "model.fit(X_train, y_train)\n",
        "\n",
        "# Predict and evaluate\n",
        "y_pred = model.predict(X_test)\n",
        "print(\"Accuracy:\", accuracy_score(y_test, y_pred))"
      ]
    },
    {
      "cell_type": "markdown",
      "source": [
        "# 2.2"
      ],
      "metadata": {
        "id": "jl1QjnSHtLmu"
      }
    },
    {
      "cell_type": "code",
      "source": [
        "import pandas as pd\n",
        "import numpy as np\n",
        "import matplotlib.pyplot as plt\n",
        "from sklearn.model_selection import train_test_split\n",
        "from sklearn.preprocessing import StandardScaler\n",
        "from sklearn.svm import SVC\n",
        "from sklearn.metrics import confusion_matrix, accuracy_score\n",
        "from matplotlib.colors import ListedColormap\n",
        "\n",
        "# Load data (replace with your actual file)\n",
        "data = pd.read_csv(\"/content/social.csv\")\n",
        "X = data.iloc[:, [2, 3]].values\n",
        "y = data.iloc[:, 4].values\n",
        "\n",
        "# Split and scale data\n",
        "X_train, X_test, y_train, y_test = train_test_split(X, y, test_size=0.25, random_state=0)\n",
        "scaler = StandardScaler()\n",
        "X_train = scaler.fit_transform(X_train)\n",
        "X_test = scaler.transform(X_test)\n",
        "\n",
        "# Train SVM\n",
        "classifier = SVC(kernel='rbf', random_state=0)\n",
        "classifier.fit(X_train, y_train)\n",
        "\n",
        "# Predict and evaluate\n",
        "y_pred = classifier.predict(X_test)\n",
        "print(\"Confusion Matrix:\\n\", confusion_matrix(y_test, y_pred))\n",
        "print(\"Accuracy:\", accuracy_score(y_test, y_pred))\n",
        "\n",
        "# Visualization\n",
        "X_set, y_set = X_test, y_test\n",
        "X1, X2 = np.meshgrid(np.arange(start=X_set[:, 0].min()-1, stop=X_set[:, 0].max()+1, step=0.01),\n",
        "                     np.arange(start=X_set[:, 1].min()-1, stop=X_set[:, 1].max()+1, step=0.01))\n",
        "plt.contourf(X1, X2, classifier.predict(np.array([X1.ravel(), X2.ravel()]).T).reshape(X1.shape),\n",
        "             alpha=0.75, cmap=ListedColormap(('red', 'green')))\n",
        "plt.xlim(X1.min(), X1.max())\n",
        "plt.ylim(X2.min(), X2.max())\n",
        "\n",
        "for i, j in enumerate(np.unique(y_set)):\n",
        "    plt.scatter(X_set[y_set == j, 0], X_set[y_set == j, 1],\n",
        "                c=ListedColormap(('pink', 'green'))(i), label=j)\n",
        "plt.title('SVM (Test set)')\n",
        "plt.xlabel('Age')\n",
        "plt.ylabel('Estimated Salary')\n",
        "plt.legend()\n",
        "plt.show()"
      ],
      "metadata": {
        "colab": {
          "base_uri": "https://localhost:8080/",
          "height": 596
        },
        "id": "8lswlItrtKhr",
        "outputId": "43bcf052-8a4b-4e1e-c1b2-dfd88d2f14c3"
      },
      "execution_count": null,
      "outputs": [
        {
          "output_type": "stream",
          "name": "stdout",
          "text": [
            "Confusion Matrix:\n",
            " [[64  4]\n",
            " [ 3 29]]\n",
            "Accuracy: 0.93\n"
          ]
        },
        {
          "output_type": "stream",
          "name": "stderr",
          "text": [
            "<ipython-input-4-bc5317057f71>:40: UserWarning: *c* argument looks like a single numeric RGB or RGBA sequence, which should be avoided as value-mapping will have precedence in case its length matches with *x* & *y*.  Please use the *color* keyword-argument or provide a 2D array with a single row if you intend to specify the same RGB or RGBA value for all points.\n",
            "  plt.scatter(X_set[y_set == j, 0], X_set[y_set == j, 1],\n"
          ]
        },
        {
          "output_type": "display_data",
          "data": {
            "text/plain": [
              "<Figure size 640x480 with 1 Axes>"
            ],
            "image/png": "[encoded data removed]"
          },
          "metadata": {}
        }
      ]
    },
    {
      "cell_type": "markdown",
      "source": [
        "# 2.3"
      ],
      "metadata": {
        "id": "wT3dd2zj2xKV"
      }
    },
    {
      "cell_type": "code",
      "source": [
        "import pandas as pd\n",
        "import numpy as np\n",
        "import matplotlib.pyplot as plt\n",
        "from sklearn.model_selection import train_test_split\n",
        "from sklearn.preprocessing import StandardScaler\n",
        "from sklearn.linear_model import LogisticRegression\n",
        "from sklearn.metrics import confusion_matrix, accuracy_score\n",
        "from matplotlib.colors import ListedColormap\n",
        "\n",
        "# Load data (replace with your actual file)\n",
        "data = pd.read_csv(\"/content/diabetes.csv\")\n",
        "X = data.iloc[:, [4, 7]].values  # Using Age and DiabetesPedigreeFunction as features\n",
        "y = data.iloc[:, 8].values  # Outcome\n",
        "\n",
        "# Split and scale data\n",
        "X_train, X_test, y_train, y_test = train_test_split(X, y, test_size=0.25, random_state=0)\n",
        "scaler = StandardScaler()\n",
        "X_train = scaler.fit_transform(X_train)\n",
        "X_test = scaler.transform(X_test)\n",
        "\n",
        "# Train model\n",
        "classifier = LogisticRegression(random_state=0)\n",
        "classifier.fit(X_train, y_train)\n",
        "\n",
        "# Predict and evaluate\n",
        "y_pred = classifier.predict(X_test)\n",
        "print(\"Confusion Matrix:\\n\", confusion_matrix(y_test, y_pred))\n",
        "print(\"Accuracy:\", accuracy_score(y_test, y_pred))\n",
        "\n",
        "# Visualization\n",
        "X_set, y_set = X_test, y_test\n",
        "X1, X2 = np.meshgrid(np.arange(start=X_set[:, 0].min()-1, stop=X_set[:, 0].max()+1, step=0.01),\n",
        "                     np.arange(start=X_set[:, 1].min()-1, stop=X_set[:, 1].max()+1, step=0.01))\n",
        "plt.contourf(X1, X2, classifier.predict(np.array([X1.ravel(), X2.ravel()]).T).reshape(X1.shape),\n",
        "             alpha=0.75, cmap=ListedColormap(('red', 'green')))\n",
        "plt.xlim(X1.min(), X1.max())\n",
        "plt.ylim(X2.min(), X2.max())\n",
        "\n",
        "for i, j in enumerate(np.unique(y_set)):\n",
        "    plt.scatter(X_set[y_set == j, 0], X_set[y_set == j, 1],\n",
        "                c=ListedColormap(('red', 'green'))(i), label=j)\n",
        "plt.title('Logistic Regression (Test set)')\n",
        "plt.xlabel('Age')\n",
        "plt.ylabel('Diabetes Pedigree Function')\n",
        "plt.legend()\n",
        "plt.show()"
      ],
      "metadata": {
        "colab": {
          "base_uri": "https://localhost:8080/",
          "height": 596
        },
        "id": "31U0UQ5XtS_-",
        "outputId": "b9135b55-a3ca-41b8-d1d1-f2a501d28bde"
      },
      "execution_count": null,
      "outputs": [
        {
          "output_type": "stream",
          "name": "stdout",
          "text": [
            "Confusion Matrix:\n",
            " [[62  3]\n",
            " [18 15]]\n",
            "Accuracy: 0.7857142857142857\n"
          ]
        },
        {
          "output_type": "stream",
          "name": "stderr",
          "text": [
            "<ipython-input-5-00185e143ed4>:40: UserWarning: *c* argument looks like a single numeric RGB or RGBA sequence, which should be avoided as value-mapping will have precedence in case its length matches with *x* & *y*.  Please use the *color* keyword-argument or provide a 2D array with a single row if you intend to specify the same RGB or RGBA value for all points.\n",
            "  plt.scatter(X_set[y_set == j, 0], X_set[y_set == j, 1],\n"
          ]
        },
        {
          "output_type": "display_data",
          "data": {
            "text/plain": [
              "<Figure size 640x480 with 1 Axes>"
            ],
            "image/png": "[encoded data removed]"
          },
          "metadata": {}
        }
      ]
    },
    {
      "cell_type": "markdown",
      "source": [
        "# 2.4"
      ],
      "metadata": {
        "id": "SXqtFJla20ZI"
      }
    },
    {
      "cell_type": "code",
      "source": [
        "import pandas as pd\n",
        "import math\n",
        "import numpy as np\n",
        "\n",
        "# Sample data\n",
        "data = pd.DataFrame({\n",
        "    \"outlook\": [\"sunny\", \"sunny\", \"overcast\", \"rainy\", \"rainy\", \"rainy\", \"overcast\", \"sunny\", \"sunny\", \"rainy\", \"sunny\", \"overcast\", \"overcast\", \"rainy\"],\n",
        "    \"temperature\": [\"hot\", \"hot\", \"hot\", \"mild\", \"cool\", \"cool\", \"cool\", \"mild\", \"cool\", \"mild\", \"mild\", \"mild\", \"hot\", \"mild\"],\n",
        "    \"humidity\": [\"high\", \"high\", \"high\", \"high\", \"normal\", \"normal\", \"normal\", \"high\", \"normal\", \"normal\", \"normal\", \"high\", \"normal\", \"high\"],\n",
        "    \"wind\": [\"weak\", \"strong\", \"weak\", \"weak\", \"weak\", \"strong\", \"strong\", \"weak\", \"weak\", \"weak\", \"strong\", \"strong\", \"weak\", \"strong\"],\n",
        "    \"answer\": [\"no\", \"no\", \"yes\", \"yes\", \"yes\", \"no\", \"yes\", \"no\", \"yes\", \"yes\", \"yes\", \"yes\", \"yes\", \"no\"]\n",
        "})\n",
        "\n",
        "features = [feat for feat in data]\n",
        "features.remove(\"answer\")\n",
        "\n",
        "class Node:\n",
        "    def __init__(self):\n",
        "        self.children = []\n",
        "        self.value = \"\"\n",
        "        self.isLeaf = False\n",
        "        self.pred = \"\"\n",
        "\n",
        "def entropy(examples):\n",
        "    pos = 0.0\n",
        "    neg = 0.0\n",
        "    for _, row in examples.iterrows():\n",
        "        if row[\"answer\"] == \"yes\":\n",
        "            pos += 1\n",
        "        else:\n",
        "            neg += 1\n",
        "    if pos == 0.0 or neg == 0.0:\n",
        "        return 0.0\n",
        "    else:\n",
        "        p = pos / (pos + neg)\n",
        "        n = neg / (pos + neg)\n",
        "        return -(p * math.log(p, 2) + n * math.log(n, 2))\n",
        "\n",
        "def info_gain(examples, attr):\n",
        "    uniq = np.unique(examples[attr])\n",
        "    gain = entropy(examples)\n",
        "    for u in uniq:\n",
        "        subdata = examples[examples[attr] == u]\n",
        "        sub_e = entropy(subdata)\n",
        "        gain -= (float(len(subdata)) / float(len(examples))) * sub_e\n",
        "    return gain\n",
        "\n",
        "def ID3(examples, attrs):\n",
        "    root = Node()\n",
        "    max_gain = 0\n",
        "    max_feat = \"\"\n",
        "\n",
        "    for feature in attrs:\n",
        "        gain = info_gain(examples, feature)\n",
        "        if gain > max_gain:\n",
        "            max_gain = gain\n",
        "            max_feat = feature\n",
        "\n",
        "    root.value = max_feat\n",
        "    uniq = np.unique(examples[max_feat])\n",
        "\n",
        "    for u in uniq:\n",
        "        subdata = examples[examples[max_feat] == u]\n",
        "        if entropy(subdata) == 0.0:\n",
        "            newNode = Node()\n",
        "            newNode.isLeaf = True\n",
        "            newNode.value = u\n",
        "            newNode.pred = np.unique(subdata[\"answer\"])[0]\n",
        "            root.children.append(newNode)\n",
        "        else:\n",
        "            dummyNode = Node()\n",
        "            dummyNode.value = u\n",
        "            new_attrs = attrs.copy()\n",
        "            new_attrs.remove(max_feat)\n",
        "            child = ID3(subdata, new_attrs)\n",
        "            dummyNode.children.append(child)\n",
        "            root.children.append(dummyNode)\n",
        "\n",
        "    return root\n",
        "\n",
        "def printTree(root: Node, depth=0):\n",
        "    for i in range(depth):\n",
        "        print(\"\\t\", end=\"\")\n",
        "    print(root.value, end=\"\")\n",
        "    if root.isLeaf:\n",
        "        print(\" -> \", root.pred)\n",
        "    print()\n",
        "    for child in root.children:\n",
        "        printTree(child, depth + 1)\n",
        "\n",
        "def classify(root: Node, new):\n",
        "    for child in root.children:\n",
        "        if child.value == new[root.value]:\n",
        "            if child.isLeaf:\n",
        "                print(\"Predicted Label for new example\", new, \"is:\", child.pred)\n",
        "                return\n",
        "            else:\n",
        "                classify(child.children[0], new)\n",
        "\n",
        "# Build and print tree\n",
        "root = ID3(data, features)\n",
        "print(\"Decision Tree:\")\n",
        "printTree(root)\n",
        "print(\"------------------\")\n",
        "\n",
        "# Classify new example\n",
        "new_example = {\"outlook\": \"sunny\", \"temperature\": \"hot\", \"humidity\": \"normal\", \"wind\": \"strong\"}\n",
        "classify(root, new_example)"
      ],
      "metadata": {
        "colab": {
          "base_uri": "https://localhost:8080/"
        },
        "id": "NuoU2C5RuB6a",
        "outputId": "cc6fb125-6384-496f-9470-d7772567b4e3"
      },
      "execution_count": null,
      "outputs": [
        {
          "output_type": "stream",
          "name": "stdout",
          "text": [
            "Decision Tree:\n",
            "outlook\n",
            "\tovercast ->  yes\n",
            "\n",
            "\trainy\n",
            "\t\twind\n",
            "\t\t\tstrong ->  no\n",
            "\n",
            "\t\t\tweak ->  yes\n",
            "\n",
            "\tsunny\n",
            "\t\thumidity\n",
            "\t\t\thigh ->  no\n",
            "\n",
            "\t\t\tnormal ->  yes\n",
            "\n",
            "------------------\n",
            "Predicted Label for new example {'outlook': 'sunny', 'temperature': 'hot', 'humidity': 'normal', 'wind': 'strong'} is: yes\n"
          ]
        }
      ]
    },
    {
      "cell_type": "code",
      "source": [
        "import pandas as pd\n",
        "from sklearn.tree import DecisionTreeClassifier, export_text\n",
        "\n",
        "# Sample data\n",
        "data = pd.DataFrame({\n",
        "    \"outlook\": [\"sunny\", \"sunny\", \"overcast\", \"rainy\", \"rainy\", \"rainy\", \"overcast\", \"sunny\", \"sunny\", \"rainy\", \"sunny\", \"overcast\", \"overcast\", \"rainy\"],\n",
        "    \"temperature\": [\"hot\", \"hot\", \"hot\", \"mild\", \"cool\", \"cool\", \"cool\", \"mild\", \"cool\", \"mild\", \"mild\", \"mild\", \"hot\", \"mild\"],\n",
        "    \"humidity\": [\"high\", \"high\", \"high\", \"high\", \"normal\", \"normal\", \"normal\", \"high\", \"normal\", \"normal\", \"normal\", \"high\", \"normal\", \"high\"],\n",
        "    \"wind\": [\"weak\", \"strong\", \"weak\", \"weak\", \"weak\", \"strong\", \"strong\", \"weak\", \"weak\", \"weak\", \"strong\", \"strong\", \"weak\", \"strong\"],\n",
        "    \"answer\": [\"no\", \"no\", \"yes\", \"yes\", \"yes\", \"no\", \"yes\", \"no\", \"yes\", \"yes\", \"yes\", \"yes\", \"yes\", \"no\"]\n",
        "})\n",
        "\n",
        "# One-hot encode categorical features\n",
        "X = pd.get_dummies(data.drop(\"answer\", axis=1))\n",
        "y = data[\"answer\"]\n",
        "\n",
        "# Train Decision Tree using ID3 (criterion=\"entropy\")\n",
        "clf = DecisionTreeClassifier(criterion=\"entropy\")\n",
        "clf.fit(X, y)\n",
        "\n",
        "# Print the decision tree\n",
        "tree_rules = export_text(clf, feature_names=list(X.columns))\n",
        "print(\"Decision Tree Rules:\\n\")\n",
        "print(tree_rules)\n",
        "\n",
        "# Classify a new example\n",
        "new_example = pd.DataFrame([{\n",
        "    \"outlook\": \"sunny\",\n",
        "    \"temperature\": \"hot\",\n",
        "    \"humidity\": \"normal\",\n",
        "    \"wind\": \"strong\"\n",
        "}])\n",
        "\n",
        "# One-hot encode the new example to match training format\n",
        "new_example_encoded = pd.get_dummies(new_example)\n",
        "# Ensure all columns are present (fill missing ones with 0)\n",
        "new_example_encoded = new_example_encoded.reindex(columns=X.columns, fill_value=0)\n",
        "\n",
        "prediction = clf.predict(new_example_encoded)\n",
        "print(\"\\nPredicted label for new example:\", prediction[0])\n"
      ],
      "metadata": {
        "colab": {
          "base_uri": "https://localhost:8080/"
        },
        "id": "h0Zoobhd1olm",
        "outputId": "4d5633bc-6da3-4886-979c-a6173832fa4c"
      },
      "execution_count": null,
      "outputs": [
        {
          "output_type": "stream",
          "name": "stdout",
          "text": [
            "Decision Tree Rules:\n",
            "\n",
            "|--- outlook_overcast <= 0.50\n",
            "|   |--- humidity_normal <= 0.50\n",
            "|   |   |--- outlook_rainy <= 0.50\n",
            "|   |   |   |--- class: no\n",
            "|   |   |--- outlook_rainy >  0.50\n",
            "|   |   |   |--- wind_strong <= 0.50\n",
            "|   |   |   |   |--- class: yes\n",
            "|   |   |   |--- wind_strong >  0.50\n",
            "|   |   |   |   |--- class: no\n",
            "|   |--- humidity_normal >  0.50\n",
            "|   |   |--- wind_strong <= 0.50\n",
            "|   |   |   |--- class: yes\n",
            "|   |   |--- wind_strong >  0.50\n",
            "|   |   |   |--- temperature_mild <= 0.50\n",
            "|   |   |   |   |--- class: no\n",
            "|   |   |   |--- temperature_mild >  0.50\n",
            "|   |   |   |   |--- class: yes\n",
            "|--- outlook_overcast >  0.50\n",
            "|   |--- class: yes\n",
            "\n",
            "\n",
            "Predicted label for new example: no\n"
          ]
        }
      ]
    },
    {
      "cell_type": "markdown",
      "source": [
        "# 2.5"
      ],
      "metadata": {
        "id": "-JN27UyN24IU"
      }
    },
    {
      "cell_type": "code",
      "source": [
        "import pandas as pd\n",
        "from sklearn.model_selection import train_test_split\n",
        "from sklearn.ensemble import RandomForestClassifier\n",
        "from sklearn import metrics\n",
        "import seaborn as sns\n",
        "import matplotlib.pyplot as plt\n",
        "\n",
        "# Load data (replace with your actual file)\n",
        "data = pd.read_csv(\"/content/HeartDisease1.csv\")\n",
        "X = data.iloc[:, 1:13].values  # Features from columns 1-12\n",
        "y = data.iloc[:, 13].values    # Target in column 13\n",
        "\n",
        "# Split data\n",
        "X_train, X_test, y_train, y_test = train_test_split(X, y, test_size=0.3, random_state=1)\n",
        "\n",
        "# Train Random Forest\n",
        "rfc = RandomForestClassifier(n_estimators=100, random_state=1)\n",
        "rfc.fit(X_train, y_train)\n",
        "\n",
        "# Predict and evaluate\n",
        "y_pred = rfc.predict(X_test)\n",
        "print(\"Classification Accuracy:\", metrics.accuracy_score(y_test, y_pred) * 100)\n",
        "\n",
        "# Confusion matrix\n",
        "cm = metrics.confusion_matrix(y_test, y_pred)\n",
        "print(\"Confusion Matrix:\\n\", cm)\n",
        "\n",
        "# Heatmap visualization\n",
        "plt.figure(figsize=(5, 4))\n",
        "sns.heatmap(cm, annot=True, fmt='d')\n",
        "plt.xlabel('Predicted')\n",
        "plt.ylabel('Actual')\n",
        "plt.title('Confusion Matrix')\n",
        "plt.show()"
      ],
      "metadata": {
        "colab": {
          "base_uri": "https://localhost:8080/",
          "height": 479
        },
        "id": "LchHC7fruH_p",
        "outputId": "40dc396e-cc53-434d-b078-07316d977e6f"
      },
      "execution_count": null,
      "outputs": [
        {
          "output_type": "stream",
          "name": "stdout",
          "text": [
            "Classification Accuracy: 80.24691358024691\n",
            "Confusion Matrix:\n",
            " [[36  6]\n",
            " [10 29]]\n"
          ]
        },
        {
          "output_type": "display_data",
          "data": {
            "text/plain": [
              "<Figure size 500x400 with 2 Axes>"
            ],
            "image/png": "[encoded data removed]"
          },
          "metadata": {}
        }
      ]
    },
    {
      "cell_type": "markdown",
      "source": [
        "#3 k_means clustering"
      ],
      "metadata": {
        "id": "Hq5bYkhlk0m-"
      }
    },
    {
      "cell_type": "code",
      "source": [
        "import pandas as pd\n",
        "import numpy as np\n",
        "import matplotlib.pyplot as plt\n",
        "from sklearn.cluster import KMeans\n",
        "from sklearn.preprocessing import StandardScaler\n",
        "\n",
        "# Load data (replace with your actual file)\n",
        "data = pd.read_csv(\"/content/Iris (1).csv\")\n",
        "X = data.iloc[:, [1, 2, 3, 4]].values  # Using all four features\n",
        "\n",
        "# Standardize the data\n",
        "scaler = StandardScaler()\n",
        "X_scaled = scaler.fit_transform(X)\n",
        "\n",
        "# Determine optimal number of clusters using elbow method\n",
        "wcss = []\n",
        "for i in range(1, 11):\n",
        "    kmeans = KMeans(n_clusters=i, init='k-means++', max_iter=300, n_init=10, random_state=0)\n",
        "    kmeans.fit(X_scaled)\n",
        "    wcss.append(kmeans.inertia_)\n",
        "\n",
        "# Plot the elbow curve\n",
        "plt.plot(range(1, 11), wcss)\n",
        "plt.title('Elbow Method')\n",
        "plt.xlabel('Number of clusters')\n",
        "plt.ylabel('WCSS')\n",
        "plt.show()\n",
        "\n",
        "# Apply K-Means with optimal clusters (3 for Iris dataset)\n",
        "kmeans = KMeans(n_clusters=3, init='k-means++', max_iter=300, n_init=10, random_state=0)\n",
        "y_kmeans = kmeans.fit_predict(X_scaled)\n",
        "\n",
        "# Visualize the clusters (using first two features)\n",
        "plt.scatter(X_scaled[y_kmeans == 0, 0], X_scaled[y_kmeans == 0, 1], s=100, c='red', label='Cluster 1')\n",
        "plt.scatter(X_scaled[y_kmeans == 1, 0], X_scaled[y_kmeans == 1, 1], s=100, c='blue', label='Cluster 2')\n",
        "plt.scatter(X_scaled[y_kmeans == 2, 0], X_scaled[y_kmeans == 2, 1], s=100, c='green', label='Cluster 3')\n",
        "plt.scatter(kmeans.cluster_centers_[:, 0], kmeans.cluster_centers_[:, 1], s=300, c='yellow', label='Centroids')\n",
        "plt.title('Clusters of Iris Data')\n",
        "plt.legend()\n",
        "plt.show()"
      ],
      "metadata": {
        "colab": {
          "base_uri": "https://localhost:8080/",
          "height": 907
        },
        "id": "uyxZziwsuSlq",
        "outputId": "e8289741-2ca6-4d08-aa47-ae2e4e7870f3"
      },
      "execution_count": null,
      "outputs": [
        {
          "output_type": "display_data",
          "data": {
            "text/plain": [
              "<Figure size 640x480 with 1 Axes>"
            ],
            "image/png": "[encoded data removed]"
          },
          "metadata": {}
        },
        {
          "output_type": "display_data",
          "data": {
            "text/plain": [
              "<Figure size 640x480 with 1 Axes>"
            ],
            "image/png": "[encoded data removed]"
          },
          "metadata": {}
        }
      ]
    },
    {
      "cell_type": "markdown",
      "source": [
        "#4 Tokenization, Stemming, and Lemmatization using nltk"
      ],
      "metadata": {
        "id": "uhqe0VRhtdKC"
      }
    },
    {
      "cell_type": "code",
      "source": [
        "import nltk\n",
        "from nltk.tokenize import word_tokenize\n",
        "from nltk.stem import PorterStemmer, WordNetLemmatizer\n",
        "from nltk.corpus import stopwords\n",
        "\n",
        "# Download required resources (only the first time)\n",
        "nltk.download('punkt')\n",
        "nltk.download('stopwords')\n",
        "nltk.download('wordnet')\n",
        "\n",
        "# Sample text\n",
        "text = \"The quick brown foxes are jumping over the lazy dogs. The dogs are not amused.\"\n",
        "\n",
        "# Tokenization & Stopword Removal\n",
        "tokens = [w for w in word_tokenize(text) if w.lower() not in stopwords.words('english') and w.isalpha()]\n",
        "\n",
        "# Stemming and Lemmatization\n",
        "stemmed = [PorterStemmer().stem(w) for w in tokens]\n",
        "lemmatized = [WordNetLemmatizer().lemmatize(w) for w in tokens]\n",
        "\n",
        "# Results\n",
        "print(\"Original Text:\", text)\n",
        "print(\"Filtered Tokens:\", tokens)\n",
        "print(\"Stemmed:\", stemmed)\n",
        "print(\"Lemmatized:\", lemmatized)\n"
      ],
      "metadata": {
        "id": "gJX-Qnxbtdx1"
      },
      "execution_count": null,
      "outputs": []
    },
    {
      "cell_type": "markdown",
      "source": [
        "#5 Bag of Words Model in NLTK"
      ],
      "metadata": {
        "id": "lshhgl1xt7nQ"
      }
    },
    {
      "cell_type": "code",
      "source": [
        "import nltk\n",
        "from nltk.corpus import stopwords\n",
        "from nltk.tokenize import word_tokenize\n",
        "from nltk.probability import FreqDist\n",
        "\n",
        "nltk.download('punkt')\n",
        "nltk.download('stopwords')\n",
        "\n",
        "def create_bow_model(texts):\n",
        "    stop_words = set(stopwords.words('english'))\n",
        "    words = [word.lower() for text in texts for word in word_tokenize(text)\n",
        "             if word.isalpha() and word.lower() not in stop_words]\n",
        "    return dict(FreqDist(words))\n",
        "\n",
        "# Example texts\n",
        "texts = [\n",
        "    \"The cat sat on the mat, and the mat was comfortable.\",\n",
        "    \"She sang a sweet song, a song that touched everyone's heart.\",\n",
        "    \"Coding coding can be challenging, but coding is also incredibly rewarding.\",\n",
        "]\n",
        "\n",
        "# Build and print BoW model\n",
        "bow = create_bow_model(texts)\n",
        "print(\"Bag of Words Model:\")\n",
        "for word, freq in bow.items():\n",
        "    print(f\"{word}: {freq}\")\n"
      ],
      "metadata": {
        "id": "KXd3XcSGt6dn"
      },
      "execution_count": null,
      "outputs": []
    },
    {
      "cell_type": "markdown",
      "source": [
        "# 6 To perform Modelling used for Identifying Patterns in Text Data"
      ],
      "metadata": {
        "id": "p_7XR8yw3VTD"
      }
    },
    {
      "cell_type": "code",
      "source": [
        "import csv\n",
        "import re\n",
        "\n",
        "def count_pattern_in_column(file_path, column):\n",
        "    pattern_counts = {}\n",
        "\n",
        "    with open(file_path, 'r', newline='', encoding='utf-8') as csvfile:\n",
        "        reader = csv.DictReader(csvfile)\n",
        "        for row in reader:\n",
        "            text = row[column]\n",
        "            matches = re.findall(r'Female', text, flags=re.IGNORECASE)\n",
        "            for match in matches:\n",
        "                pattern_counts[match] = pattern_counts.get(match, 0) + 1\n",
        "\n",
        "    return pattern_counts\n",
        "\n",
        "# Usage\n",
        "file_path = 'social.csv'  # Your CSV file path\n",
        "column_name = 'Gender'    # The column to search in\n",
        "result = count_pattern_in_column(file_path, column_name)\n",
        "\n",
        "# Print results\n",
        "for pattern, count in result.items():\n",
        "    print(f\"Pattern: {pattern}, Count: {count}\")\n"
      ],
      "metadata": {
        "id": "OWgvZD_J3Zyq"
      },
      "execution_count": null,
      "outputs": []
    },
    {
      "cell_type": "markdown",
      "source": [
        "# 7 To perform Analysing Sequential Data by HMM"
      ],
      "metadata": {
        "id": "XwiMY9M83m3H"
      }
    },
    {
      "cell_type": "code",
      "source": [
        "import numpy as np\n",
        "from hmmlearn import hmm\n",
        "\n",
        "# Define states and observations\n",
        "states = ['Rainy', 'Sunny']\n",
        "observations = ['Umbrella', 'Jacket', 'T-shirt']\n",
        "\n",
        "# Model parameters\n",
        "n_states = len(states)\n",
        "trans_matrix = np.array([[0.7, 0.3], [0.4, 0.6]])\n",
        "emission_matrix = np.array([[0.1, 0.4, 0.5],\n",
        "                            [0.6, 0.3, 0.1]])\n",
        "initial_probs = np.array([0.6, 0.4])\n",
        "\n",
        "# Create and configure the HMM model\n",
        "model = hmm.MultinomialHMM(n_components=n_states, n_iter=100)\n",
        "model.startprob_ = initial_probs\n",
        "model.transmat_ = trans_matrix\n",
        "model.emissionprob_ = emission_matrix\n",
        "\n",
        "# Training data (sequence of observations)\n",
        "train_data = np.array([[0, 1, 2, 0, 1, 2, 0, 2, 1]]).T  # .T reshapes to column format\n",
        "model.fit(train_data)\n",
        "\n",
        "# New sequence to predict\n",
        "test_data = np.array([[0, 2, 1]]).T\n",
        "predicted = model.predict(test_data)\n",
        "\n",
        "# Map numerical states to labels\n",
        "predicted_labels = [states[i] for i in predicted]\n",
        "print(\"Predicted Weather States:\", predicted_labels)\n"
      ],
      "metadata": {
        "id": "GF1hQDdE3pKN"
      },
      "execution_count": null,
      "outputs": []
    },
    {
      "cell_type": "markdown",
      "source": [
        "#9 TIC-TAC-TOE"
      ],
      "metadata": {
        "id": "_Zl_PQmGpBCI"
      }
    },
    {
      "cell_type": "code",
      "source": [
        "def print_board(board):\n",
        "    for row in board:\n",
        "        print(\" | \".join(row))\n",
        "        print(\"-\" * 10)\n"
      ],
      "metadata": {
        "id": "uIJ8pkEEpEE_"
      },
      "execution_count": null,
      "outputs": []
    },
    {
      "cell_type": "code",
      "source": [
        "def check_winner(board, player):\n",
        "    for i in range(3):\n",
        "        if all(board[i][j] == player for j in range(3)) or all(board[j][i] == player for j in range(3)):\n",
        "            return True\n",
        "    if all(board[i][i] == player for i in range(3)) or all(board[i][2 - i] == player for i in range(3)):\n",
        "        return True\n",
        "    return False\n"
      ],
      "metadata": {
        "id": "Ky5kdseRpGd9"
      },
      "execution_count": null,
      "outputs": []
    },
    {
      "cell_type": "code",
      "source": [
        "def is_board_full(board):\n",
        "    return all(board[i][j] != \" \" for i in range(3) for j in range(3))\n"
      ],
      "metadata": {
        "id": "ffZwXfKUpKGC"
      },
      "execution_count": null,
      "outputs": []
    },
    {
      "cell_type": "code",
      "source": [
        "def tic_tac_toe():\n",
        "    board = [[\" \" for _ in range(3)] for _ in range(3)]\n",
        "    players = [\"X\", \"O\"]\n",
        "    current_player = players[0]\n",
        "\n",
        "    while True:\n",
        "        print_board(board)\n",
        "\n",
        "        # Get player move\n",
        "        while True:\n",
        "            row = int(input(\"Enter row (0, 1, or 2): \"))\n",
        "            col = int(input(\"Enter column (0, 1, or 2): \"))\n",
        "            if 0 <= row < 3 and 0 <= col < 3 and board[row][col] == \" \":\n",
        "                break\n",
        "            else:\n",
        "                print(\"Invalid move. Try again.\")\n",
        "\n",
        "        board[row][col] = current_player\n",
        "\n",
        "        # Check for win\n",
        "        if check_winner(board, current_player):\n",
        "            print_board(board)\n",
        "            print(f\"Player {current_player} wins!\")\n",
        "            break\n",
        "\n",
        "        # Check for tie\n",
        "        if is_board_full(board):\n",
        "            print_board(board)\n",
        "            print(\"It's a tie!\")\n",
        "            break\n",
        "\n",
        "        # Switch turns\n",
        "        current_player = players[1] if current_player == players[0] else players[0]\n"
      ],
      "metadata": {
        "id": "zQb0gkaUpLfy"
      },
      "execution_count": null,
      "outputs": []
    },
    {
      "cell_type": "code",
      "source": [
        "tic_tac_toe()"
      ],
      "metadata": {
        "colab": {
          "base_uri": "https://localhost:8080/"
        },
        "id": "YVtHX6mCpNG0",
        "outputId": "a57886e0-159b-4e96-fead-9d67bcd11bde"
      },
      "execution_count": null,
      "outputs": [
        {
          "output_type": "stream",
          "name": "stdout",
          "text": [
            "  |   |  \n",
            "----------\n",
            "  |   |  \n",
            "----------\n",
            "  |   |  \n",
            "----------\n",
            "Enter row (0, 1, or 2): 1\n",
            "Enter column (0, 1, or 2): 1\n",
            "  |   |  \n",
            "----------\n",
            "  | X |  \n",
            "----------\n",
            "  |   |  \n",
            "----------\n",
            "Enter row (0, 1, or 2): 0\n",
            "Enter column (0, 1, or 2): 1\n",
            "  | O |  \n",
            "----------\n",
            "  | X |  \n",
            "----------\n",
            "  |   |  \n",
            "----------\n",
            "Enter row (0, 1, or 2): 2\n",
            "Enter column (0, 1, or 2): 0\n",
            "  | O |  \n",
            "----------\n",
            "  | X |  \n",
            "----------\n",
            "X |   |  \n",
            "----------\n",
            "Enter row (0, 1, or 2): 0\n",
            "Enter column (0, 1, or 2): 2\n",
            "  | O | O\n",
            "----------\n",
            "  | X |  \n",
            "----------\n",
            "X |   |  \n",
            "----------\n",
            "Enter row (0, 1, or 2): 0\n",
            "Enter column (0, 1, or 2): 0\n",
            "X | O | O\n",
            "----------\n",
            "  | X |  \n",
            "----------\n",
            "X |   |  \n",
            "----------\n",
            "Enter row (0, 1, or 2): 2\n",
            "Enter column (0, 1, or 2): 2\n",
            "X | O | O\n",
            "----------\n",
            "  | X |  \n",
            "----------\n",
            "X |   | O\n",
            "----------\n",
            "Enter row (0, 1, or 2): 0\n",
            "Enter column (0, 1, or 2): 1\n",
            "Invalid move. Try again.\n",
            "Enter row (0, 1, or 2): 1\n",
            "Enter column (0, 1, or 2): 0\n",
            "X | O | O\n",
            "----------\n",
            "X | X |  \n",
            "----------\n",
            "X |   | O\n",
            "----------\n",
            "Player X wins!\n"
          ]
        }
      ]
    },
    {
      "cell_type": "markdown",
      "source": [
        "#10 Single layer perceptron and multilayer perceptron"
      ],
      "metadata": {
        "id": "yznmJ2C2kpxX"
      }
    },
    {
      "cell_type": "code",
      "source": [
        "import numpy as np\n",
        "import tensorflow as tf\n",
        "from sklearn.datasets import load_iris\n",
        "from sklearn.model_selection import train_test_split\n",
        "from sklearn.preprocessing import StandardScaler\n",
        "from sklearn.metrics import accuracy_score\n",
        "\n",
        "# Load and preprocess Iris dataset\n",
        "X, y = load_iris(return_X_y=True)\n",
        "X_train, X_test, y_train, y_test = train_test_split(X, y, test_size=0.2, random_state=42)\n",
        "scaler = StandardScaler()\n",
        "X_train = scaler.fit_transform(X_train)\n",
        "X_test = scaler.transform(X_test)\n",
        "\n",
        "# Function to build, train, and evaluate a model\n",
        "def train_and_evaluate(model_structure, name):\n",
        "    model = tf.keras.Sequential(model_structure + [tf.keras.layers.Dense(3, activation='softmax')])\n",
        "    model.compile(optimizer='adam', loss='sparse_categorical_crossentropy', metrics=['accuracy'])\n",
        "    model.fit(X_train, y_train, epochs=15, verbose=0)\n",
        "    preds = np.argmax(model.predict(X_test), axis=1)\n",
        "    acc = accuracy_score(y_test, preds)\n",
        "    print(f\"{name} Accuracy: {acc:.2f}\")\n",
        "\n",
        "# Single-layer NN\n",
        "train_and_evaluate([tf.keras.layers.Dense(64, activation='relu', input_shape=(4,))], \"Single-layer NN\")\n",
        "\n",
        "# Multi-layer NN\n",
        "train_and_evaluate([\n",
        "    tf.keras.layers.Dense(64, activation='relu', input_shape=(4,)),\n",
        "    tf.keras.layers.Dense(32, activation='relu')\n",
        "], \"Multi-layer NN\")\n"
      ],
      "metadata": {
        "id": "Iy3qv3jQvOkT",
        "colab": {
          "base_uri": "https://localhost:8080/"
        },
        "outputId": "755ac1fe-7386-40ca-d419-b4ecf14688d5"
      },
      "execution_count": null,
      "outputs": [
        {
          "output_type": "stream",
          "name": "stderr",
          "text": [
            "/usr/local/lib/python3.11/dist-packages/keras/src/layers/core/dense.py:87: UserWarning: Do not pass an `input_shape`/`input_dim` argument to a layer. When using Sequential models, prefer using an `Input(shape)` object as the first layer in the model instead.\n",
            "  super().__init__(activity_regularizer=activity_regularizer, **kwargs)\n"
          ]
        },
        {
          "output_type": "stream",
          "name": "stdout",
          "text": [
            "\u001b[1m1/1\u001b[0m \u001b[32m━━━━━━━━━━━━━━━━━━━━\u001b[0m\u001b[37m\u001b[0m \u001b[1m0s\u001b[0m 66ms/step\n",
            "Single-layer NN Accuracy: 0.80\n"
          ]
        },
        {
          "output_type": "stream",
          "name": "stderr",
          "text": [
            "/usr/local/lib/python3.11/dist-packages/keras/src/layers/core/dense.py:87: UserWarning: Do not pass an `input_shape`/`input_dim` argument to a layer. When using Sequential models, prefer using an `Input(shape)` object as the first layer in the model instead.\n",
            "  super().__init__(activity_regularizer=activity_regularizer, **kwargs)\n"
          ]
        },
        {
          "output_type": "stream",
          "name": "stdout",
          "text": [
            "\u001b[1m1/1\u001b[0m \u001b[32m━━━━━━━━━━━━━━━━━━━━\u001b[0m\u001b[37m\u001b[0m \u001b[1m0s\u001b[0m 79ms/step\n",
            "Multi-layer NN Accuracy: 0.90\n"
          ]
        }
      ]
    },
    {
      "cell_type": "markdown",
      "source": [
        "# 11 Linear Regressor using ANN"
      ],
      "metadata": {
        "id": "HhEDkfmZ4DfG"
      }
    },
    {
      "cell_type": "code",
      "source": [
        "import tensorflow as tf\n",
        "import numpy as np\n",
        "import matplotlib.pyplot as plt\n",
        "\n",
        "# Set random seed for reproducibility\n",
        "np.random.seed(0)\n",
        "\n",
        "# Generate synthetic linear data\n",
        "X_train = np.random.rand(100, 1)\n",
        "y_train = 2 * X_train + 1 + 0.1 * np.random.randn(100, 1)\n",
        "\n",
        "# Define a simple linear regression model\n",
        "model = tf.keras.Sequential([\n",
        "    tf.keras.layers.Dense(1, input_shape=(1,))\n",
        "])\n",
        "\n",
        "# Compile the model\n",
        "model.compile(optimizer='sgd', loss='mse')\n",
        "\n",
        "# Train the model\n",
        "history = model.fit(X_train, y_train, epochs=100, verbose=0)\n",
        "\n",
        "# Plot the training loss\n",
        "plt.plot(history.history['loss'])\n",
        "plt.title('Training Loss')\n",
        "plt.xlabel('Epochs')\n",
        "plt.ylabel('Mean Squared Error')\n",
        "plt.grid(True)\n",
        "plt.show()\n",
        "\n",
        "# Predict on new inputs\n",
        "X_test = np.array([[0.2], [0.5], [0.8]])\n",
        "predictions = model.predict(X_test)\n",
        "\n",
        "# Display predictions\n",
        "for x, y in zip(X_test, predictions):\n",
        "    print(f\"Input: {x[0]}, Predicted Output: {y[0]}\")\n"
      ],
      "metadata": {
        "colab": {
          "base_uri": "https://localhost:8080/",
          "height": 541
        },
        "id": "QaoYEPQ74Fa6",
        "outputId": "2fb13d3f-90c4-4209-9b65-fabd863a8bf8"
      },
      "execution_count": null,
      "outputs": [
        {
          "output_type": "display_data",
          "data": {
            "text/plain": [
              "<Figure size 640x480 with 1 Axes>"
            ],
            "image/png": "[encoded data removed]"
          },
          "metadata": {}
        },
        {
          "output_type": "stream",
          "name": "stdout",
          "text": [
            "\u001b[1m1/1\u001b[0m \u001b[32m━━━━━━━━━━━━━━━━━━━━\u001b[0m\u001b[37m\u001b[0m \u001b[1m0s\u001b[0m 52ms/step\n",
            "Input: 0.2, Predicted Output: 1.4110031127929688\n",
            "Input: 0.5, Predicted Output: 2.0139994621276855\n",
            "Input: 0.8, Predicted Output: 2.6169958114624023\n"
          ]
        }
      ]
    },
    {
      "cell_type": "markdown",
      "source": [
        "# 12 To perform Image Classifier: An Application of Deep Learning"
      ],
      "metadata": {
        "id": "85B9JH4S4hL5"
      }
    },
    {
      "cell_type": "code",
      "source": [
        "import tensorflow as tf\n",
        "from tensorflow.keras.models import Sequential\n",
        "from tensorflow.keras.layers import Conv2D, MaxPooling2D, Flatten, Dense\n",
        "\n",
        "# Load and normalize the MNIST dataset\n",
        "(X_train, y_train), (X_test, y_test) = tf.keras.datasets.mnist.load_data()\n",
        "X_train, X_test = X_train / 255.0, X_test / 255.0  # Normalize to [0,1]\n",
        "\n",
        "# Reshape data to include channel dimension (grayscale: 1 channel)\n",
        "X_train = X_train[..., tf.newaxis]\n",
        "X_test = X_test[..., tf.newaxis]\n",
        "\n",
        "# Build the CNN model\n",
        "model = Sequential([\n",
        "    Conv2D(32, (3, 3), activation='relu', input_shape=(28, 28, 1)),\n",
        "    MaxPooling2D((2, 2)),\n",
        "    Conv2D(64, (3, 3), activation='relu'),\n",
        "    MaxPooling2D((2, 2)),\n",
        "    Flatten(),\n",
        "    Dense(64, activation='relu'),\n",
        "    Dense(10, activation='softmax')\n",
        "])\n",
        "\n",
        "# Compile the model\n",
        "model.compile(optimizer='adam',\n",
        "              loss='sparse_categorical_crossentropy',\n",
        "              metrics=['accuracy'])\n",
        "\n",
        "# Train the model\n",
        "model.fit(X_train, y_train, epochs=5, validation_split=0.1)\n",
        "\n",
        "# Evaluate on test data\n",
        "test_loss, test_acc = model.evaluate(X_test, y_test)\n",
        "print(f\"\\nTest accuracy: {test_acc:.4f}\")\n"
      ],
      "metadata": {
        "colab": {
          "base_uri": "https://localhost:8080/"
        },
        "id": "VCMOTaDa4i4T",
        "outputId": "ab0c2006-129a-4335-9a60-9e892a064e06"
      },
      "execution_count": 5,
      "outputs": [
        {
          "metadata": {
            "tags": null
          },
          "name": "stdout",
          "output_type": "stream",
          "text": [
            "Downloading data from https://storage.googleapis.com/tensorflow/tf-keras-datasets/mnist.npz\n",
            "\u001b[1m11490434/11490434\u001b[0m \u001b[32m━━━━━━━━━━━━━━━━━━━━\u001b[0m\u001b[37m\u001b[0m \u001b[1m0s\u001b[0m 0us/step\n"
          ]
        },
        {
          "metadata": {
            "tags": null
          },
          "name": "stderr",
          "output_type": "stream",
          "text": [
            "/usr/local/lib/python3.11/dist-packages/keras/src/layers/convolutional/base_conv.py:107: UserWarning: Do not pass an `input_shape`/`input_dim` argument to a layer. When using Sequential models, prefer using an `Input(shape)` object as the first layer in the model instead.\n",
            "  super().__init__(activity_regularizer=activity_regularizer, **kwargs)\n"
          ]
        },
        {
          "output_type": "stream",
          "name": "stdout",
          "text": [
            "Epoch 1/5\n",
            "\u001b[1m1688/1688\u001b[0m \u001b[32m━━━━━━━━━━━━━━━━━━━━\u001b[0m\u001b[37m\u001b[0m \u001b[1m61s\u001b[0m 34ms/step - accuracy: 0.9015 - loss: 0.3243 - val_accuracy: 0.9817 - val_loss: 0.0589\n",
            "Epoch 2/5\n",
            "\u001b[1m1688/1688\u001b[0m \u001b[32m━━━━━━━━━━━━━━━━━━━━\u001b[0m\u001b[37m\u001b[0m \u001b[1m74s\u001b[0m 30ms/step - accuracy: 0.9839 - loss: 0.0514 - val_accuracy: 0.9867 - val_loss: 0.0407\n",
            "Epoch 3/5\n",
            "\u001b[1m1688/1688\u001b[0m \u001b[32m━━━━━━━━━━━━━━━━━━━━\u001b[0m\u001b[37m\u001b[0m \u001b[1m78s\u001b[0m 28ms/step - accuracy: 0.9901 - loss: 0.0306 - val_accuracy: 0.9878 - val_loss: 0.0418\n",
            "Epoch 4/5\n",
            "\u001b[1m1688/1688\u001b[0m \u001b[32m━━━━━━━━━━━━━━━━━━━━\u001b[0m\u001b[37m\u001b[0m \u001b[1m46s\u001b[0m 27ms/step - accuracy: 0.9927 - loss: 0.0230 - val_accuracy: 0.9910 - val_loss: 0.0320\n",
            "Epoch 5/5\n",
            "\u001b[1m1688/1688\u001b[0m \u001b[32m━━━━━━━━━━━━━━━━━━━━\u001b[0m\u001b[37m\u001b[0m \u001b[1m82s\u001b[0m 28ms/step - accuracy: 0.9949 - loss: 0.0162 - val_accuracy: 0.9912 - val_loss: 0.0366\n",
            "\u001b[1m313/313\u001b[0m \u001b[32m━━━━━━━━━━━━━━━━━━━━\u001b[0m\u001b[37m\u001b[0m \u001b[1m3s\u001b[0m 8ms/step - accuracy: 0.9877 - loss: 0.0383\n",
            "\n",
            "Test accuracy: 0.9906\n"
          ]
        }
      ]
    }
  ]
}